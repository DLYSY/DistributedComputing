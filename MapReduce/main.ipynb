{
 "cells": [
  {
   "attachments": {},
   "cell_type": "markdown",
   "metadata": {},
   "source": [
    "|课程名称：大数据分布式计算|学期：2023春|成绩：|\n",
    "|-|-|-|\n",
    "|指导教师：李青泽|学生姓名：邓力予|学生学号：20201910442|\n",
    "|实验名称：MapReduce|\n",
    "|学院：数学与统计学院|专业：数据科学与大数据技术|年级：2020级|\n",
    "\n",
    "# 代码与简述\n",
    "\n",
    "## Slave\n",
    "\n",
    "- 我们先定义Slave需要做的工作。"
   ]
  },
  {
   "cell_type": "code",
   "execution_count": 1,
   "metadata": {},
   "outputs": [],
   "source": [
    "def slave(data:str,port:int):\n",
    "    from datetime import datetime\n",
    "    print(\"【\",datetime.now(),\"】\",\"Port\",port,\"：\",\"Job Start\")\n",
    "    res=dict()\n",
    "    for w in data.split():\n",
    "        if w in res:\n",
    "            res[w]=res[w]+1\n",
    "        else:\n",
    "            res[w]=1\n",
    "    print(\"【\",datetime.now(),\"】\",\"Port\",port,\"：\",\"Job Done\")\n",
    "    return res"
   ]
  },
  {
   "attachments": {},
   "cell_type": "markdown",
   "metadata": {},
   "source": [
    "Slave将对收到字符串进行词频统计，在统计后将结果返回给Server\n",
    "\n",
    "- 为了一次性启动多个Slave，可以通过一个Python脚本实现："
   ]
  },
  {
   "cell_type": "code",
   "execution_count": null,
   "metadata": {
    "tags": []
   },
   "outputs": [],
   "source": [
    "# from threading import Thread\n",
    "# from os import system\n",
    "\n",
    "\n",
    "\n",
    "# def main(port,_):\n",
    "#     system(\"rpyc_classic.exe -p {} -q --logfile ./slave.log\".format(port))\n",
    "\n",
    "# slaves=[]\n",
    "\n",
    "# for i in range(8):\n",
    "#     slaves.append(Thread(target=main,args=(11811+i,1)))\n",
    "\n",
    "# for i in slaves:\n",
    "#     i.start()\n",
    "\n",
    "# for i in slaves:\n",
    "#     i.join()"
   ]
  },
  {
   "attachments": {},
   "cell_type": "markdown",
   "metadata": {},
   "source": [
    "## Server\n",
    "\n",
    "- 导入必要包"
   ]
  },
  {
   "cell_type": "code",
   "execution_count": 2,
   "metadata": {},
   "outputs": [],
   "source": [
    "import rpyc\n",
    "from collections import Counter\n",
    "import os\n",
    "from datetime import datetime"
   ]
  },
  {
   "attachments": {},
   "cell_type": "markdown",
   "metadata": {},
   "source": [
    "使用`rpyc`包进行远程RPC访问\n",
    "\n",
    "- 读取文本文件"
   ]
  },
  {
   "cell_type": "code",
   "execution_count": 3,
   "metadata": {},
   "outputs": [],
   "source": [
    "root, dirs, files=next(os.walk('./txts'))\n",
    "txt_content=[]\n",
    "for file in files:\n",
    "    with open(root+'/'+file,'r') as txt:\n",
    "        txt_content.append(txt.read())"
   ]
  },
  {
   "attachments": {},
   "cell_type": "markdown",
   "metadata": {},
   "source": [
    "- 创建Slave列表"
   ]
  },
  {
   "cell_type": "code",
   "execution_count": 4,
   "metadata": {},
   "outputs": [],
   "source": [
    "SlavesPorts=[]\n",
    "for i in range(8):\n",
    "    SlavesPorts.append(11811+i)"
   ]
  },
  {
   "attachments": {},
   "cell_type": "markdown",
   "metadata": {},
   "source": [
    "Slave在11811~11818端口上\n",
    "\n",
    "- Map"
   ]
  },
  {
   "cell_type": "code",
   "execution_count": 5,
   "metadata": {},
   "outputs": [],
   "source": [
    "res_object=[]\n",
    "SlaveIter=SlavesPorts.copy()\n",
    "for __,data in enumerate(txt_content):\n",
    "    while True:\n",
    "        SlaveNow=SlaveIter.pop(0)\n",
    "        if not SlaveIter:\n",
    "                SlaveIter=SlavesPorts.copy()\n",
    "        try:\n",
    "            conn=rpyc.classic.connect('127.0.0.1',SlaveNow)\n",
    "            func=rpyc.async_(conn.teleport(slave))\n",
    "            res_object.append(func(data,SlaveNow))\n",
    "            break\n",
    "        except:\n",
    "            continue"
   ]
  },
  {
   "attachments": {},
   "cell_type": "markdown",
   "metadata": {},
   "source": [
    "遍历查找可用Slave，并分配任务\n",
    "\n",
    "- Reduce"
   ]
  },
  {
   "cell_type": "code",
   "execution_count": 6,
   "metadata": {},
   "outputs": [
    {
     "name": "stdout",
     "output_type": "stream",
     "text": [
      "2023-05-10 00:29:41.799562 开始统计\n",
      "2023-05-10 00:30:39.958099 结束统计\n"
     ]
    }
   ],
   "source": [
    "print(datetime.now(),\"开始统计\")\n",
    "res=Counter(dict())\n",
    "for _,data in enumerate(res_object):\n",
    "    data.wait()\n",
    "    res=res+Counter(data.value)\n",
    "res=dict(res)\n",
    "print(datetime.now(),\"结束统计\")"
   ]
  },
  {
   "attachments": {},
   "cell_type": "markdown",
   "metadata": {},
   "source": [
    "- 结果写入文件"
   ]
  },
  {
   "cell_type": "code",
   "execution_count": 7,
   "metadata": {},
   "outputs": [],
   "source": [
    "with open(\"result.txt\",\"w\") as res_file:\n",
    "    res_file.write(str(dict(res)))"
   ]
  },
  {
   "attachments": {},
   "cell_type": "markdown",
   "metadata": {},
   "source": [
    "# 结果\n",
    "\n",
    "- 先来看8个Slave都存活的情况\n",
    "\n",
    "![8Slave](A:/第六学期/大数据分布式计算/DistributedComputing/MapReduce/8Slaves.png)\n",
    "\n",
    "可见，8个Slave都成功接到任务并运行了\n",
    "\n",
    "- 接下来模拟Slave无响应状态\n",
    "\n",
    "将Slave启动脚本中"
   ]
  },
  {
   "cell_type": "code",
   "execution_count": null,
   "metadata": {},
   "outputs": [],
   "source": [
    "# for i in range(8):\n",
    "#     slaves.append(Thread(target=main,args=(11811+i,1)))"
   ]
  },
  {
   "attachments": {},
   "cell_type": "markdown",
   "metadata": {},
   "source": [
    "改为："
   ]
  },
  {
   "cell_type": "code",
   "execution_count": null,
   "metadata": {},
   "outputs": [],
   "source": [
    "# for i in range(5):\n",
    "#     slaves.append(Thread(target=main,args=(11811+i,1)))"
   ]
  },
  {
   "attachments": {},
   "cell_type": "markdown",
   "metadata": {},
   "source": [
    "以此模拟3个Slave的未响应\n",
    "\n",
    "![5Slave](A:/第六学期/大数据分布式计算/DistributedComputing/MapReduce/5Slaves.png)\n",
    "\n",
    "可以看到监听11811`11813端口的 Slave 都获得了两次任务，整个MapReduce过程依然没有受到影响。\n",
    "\n",
    "最后我们来看一下统计结果前15的单词："
   ]
  },
  {
   "cell_type": "code",
   "execution_count": 12,
   "metadata": {},
   "outputs": [
    {
     "name": "stdout",
     "output_type": "stream",
     "text": [
      "('the', 29610)\n",
      "('and', 23052)\n",
      "('to', 15696)\n",
      "('of', 13463)\n",
      "('a', 12997)\n",
      "('I', 11896)\n",
      "('was', 8245)\n",
      "('in', 8091)\n",
      "('he', 7081)\n",
      "('that', 6980)\n",
      "('his', 5434)\n",
      "('you', 5432)\n",
      "('it', 5369)\n",
      "('with', 4555)\n",
      "('had', 4481)\n"
     ]
    }
   ],
   "source": [
    "with open(\"result.txt\",\"r\") as file:\n",
    "    text_sorted=sorted(eval(file.read()).items(),key=lambda d: d[1], reverse=True)\n",
    "for i in range(15):\n",
    "    print(text_sorted[i])"
   ]
  }
 ],
 "metadata": {
  "kernelspec": {
   "display_name": "Python 3 (ipykernel)",
   "language": "python",
   "name": "python3"
  },
  "language_info": {
   "codemirror_mode": {
    "name": "ipython",
    "version": 3
   },
   "file_extension": ".py",
   "mimetype": "text/x-python",
   "name": "python",
   "nbconvert_exporter": "python",
   "pygments_lexer": "ipython3",
   "version": "3.11.3"
  }
 },
 "nbformat": 4,
 "nbformat_minor": 2
}
